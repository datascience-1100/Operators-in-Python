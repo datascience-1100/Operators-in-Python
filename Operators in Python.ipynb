{
 "cells": [
  {
   "cell_type": "markdown",
   "id": "e19348c8",
   "metadata": {},
   "source": [
    "1. Additional Operator\n",
    " -Addition: `+`\n",
    " - Subtraction: `-`\n",
    " - Multiplication: `*`\n",
    " - Division: `/`\n",
    " - Floor Division: `//` (returns the floor value after division)\n",
    " - Modulus: `%` (returns the remainder after division)\n",
    " - Exponentiation: `**` (raises the left operand to the power of the right operand)"
   ]
  },
  {
   "cell_type": "code",
   "execution_count": 25,
   "id": "64d426e3",
   "metadata": {},
   "outputs": [
    {
     "name": "stdout",
     "output_type": "stream",
     "text": [
      "8\n"
     ]
    }
   ],
   "source": [
    "a=2\n",
    "b=3\n",
    "print(a**b)"
   ]
  },
  {
   "cell_type": "markdown",
   "id": "4ffaf094",
   "metadata": {},
   "source": [
    "2. Comparison Operator\n",
    "- Equal to: `==`\n",
    " - Not equal to: `!=`\n",
    " - Greater than: `>`\n",
    " - Less than: `<`\n",
    " - Greater than or equal to: `>=`\n",
    " - Less than or equal to: `<=`"
   ]
  },
  {
   "cell_type": "code",
   "execution_count": 38,
   "id": "d5b7d2f1",
   "metadata": {},
   "outputs": [
    {
     "name": "stdout",
     "output_type": "stream",
     "text": [
      "a is equal to b\n"
     ]
    }
   ],
   "source": [
    "a=5\n",
    "b=5\n",
    "if a!=b:\n",
    "    print(\"a is not equal to b\")\n",
    "else:\n",
    "    print(\"a is equal to b\")"
   ]
  },
  {
   "cell_type": "markdown",
   "id": "4eeae604",
   "metadata": {},
   "source": [
    "3. Logical Operators\n",
    "- AND: `and`\n",
    " - OR: `or`\n",
    " - NOT: `not`"
   ]
  },
  {
   "cell_type": "code",
   "execution_count": 51,
   "id": "82363b66",
   "metadata": {},
   "outputs": [
    {
     "name": "stdout",
     "output_type": "stream",
     "text": [
      "she is neither Alicia nor 36 years old\n",
      "She is not Alicia\n"
     ]
    }
   ],
   "source": [
    "name = \"Sofia\"\n",
    "age=37\n",
    "if name== \"Alicia\" and age ==36:\n",
    " print(\"It is Alicia and she is 36 years old\")\n",
    "    \n",
    "elif name==\"Alicia \" or age ==36:\n",
    " print(\"She is either Alicia or is of 36 years old\")\n",
    "\n",
    "else:\n",
    " print(\"she is neither Alicia nor 36 years old\")\n",
    "\n",
    "if not name ==\"Alicia\":\n",
    " print('She is not Alicia')"
   ]
  },
  {
   "cell_type": "code",
   "execution_count": null,
   "id": "d58069af",
   "metadata": {},
   "outputs": [],
   "source": [
    "4. Assignment Operators\n",
    "- Assignment: `=`\n",
    " - Add and assign: `+=`\n",
    " - Subtract and assign: `-=`\n",
    " - Multiply and assign: `*=`\n",
    " - Divide and assign: `/=`"
   ]
  },
  {
   "cell_type": "code",
   "execution_count": 57,
   "id": "890438bc",
   "metadata": {},
   "outputs": [
    {
     "name": "stdout",
     "output_type": "stream",
     "text": [
      "20\n"
     ]
    }
   ],
   "source": [
    "a=5\n",
    "a+=3 # a=a+3\n",
    "a-=3 #a=a-3\n",
    "a*=4 #a=a*4\n",
    "print(a)"
   ]
  },
  {
   "cell_type": "markdown",
   "id": "4b9efa97",
   "metadata": {},
   "source": [
    "MemberShip Operator\n",
    "`in`: Returns `True` if a value is found in the sequence.\n",
    " - `not in`: Returns `True` if a value is not found in the sequence."
   ]
  },
  {
   "cell_type": "code",
   "execution_count": 67,
   "id": "372fa279",
   "metadata": {},
   "outputs": [
    {
     "name": "stdout",
     "output_type": "stream",
     "text": [
      "coconut is not in the list\n"
     ]
    }
   ],
   "source": [
    "a=[\"Apple\", \"banana\", 'watermelon', 'papaya']\n",
    "\n",
    "if 'coconut' not in a:\n",
    "    print('coconut is not in the list')\n",
    "else:\n",
    "    print('Apple is in the list')"
   ]
  },
  {
   "cell_type": "markdown",
   "id": "c7e20cee",
   "metadata": {},
   "source": [
    "Identity Operator \n",
    "is Operator:\n",
    "is not Operator:"
   ]
  },
  {
   "cell_type": "code",
   "execution_count": 68,
   "id": "5e0b0ec1",
   "metadata": {},
   "outputs": [
    {
     "name": "stdout",
     "output_type": "stream",
     "text": [
      "True\n"
     ]
    }
   ],
   "source": [
    "a=[1, 2, 3]\n",
    "b=a #b is pointing to the same address as a\n",
    "print(a is b)"
   ]
  },
  {
   "cell_type": "code",
   "execution_count": 72,
   "id": "017e4a6f",
   "metadata": {},
   "outputs": [
    {
     "name": "stdout",
     "output_type": "stream",
     "text": [
      "True\n",
      "True\n"
     ]
    }
   ],
   "source": [
    "#Difference between is operator and assignment operators:\n",
    "list_a=[1,2,3]\n",
    "list_b=list_a\n",
    "print(list_a == list_b)\n",
    "print(list_a is list_b)"
   ]
  },
  {
   "cell_type": "code",
   "execution_count": null,
   "id": "94e089b3",
   "metadata": {},
   "outputs": [],
   "source": [
    "1. Arithmetic\n",
    "2. Comparison\n",
    "3. Logical\n",
    "4. Assignment\n",
    "5. Membership\n",
    "6. Identity Operators"
   ]
  }
 ],
 "metadata": {
  "kernelspec": {
   "display_name": "Python 3 (ipykernel)",
   "language": "python",
   "name": "python3"
  },
  "language_info": {
   "codemirror_mode": {
    "name": "ipython",
    "version": 3
   },
   "file_extension": ".py",
   "mimetype": "text/x-python",
   "name": "python",
   "nbconvert_exporter": "python",
   "pygments_lexer": "ipython3",
   "version": "3.11.5"
  }
 },
 "nbformat": 4,
 "nbformat_minor": 5
}
